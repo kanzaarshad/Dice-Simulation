{
  "nbformat": 4,
  "nbformat_minor": 0,
  "metadata": {
    "colab": {
      "provenance": []
    },
    "kernelspec": {
      "name": "python3",
      "display_name": "Python 3"
    },
    "language_info": {
      "name": "python"
    }
  },
  "cells": [
    {
      "cell_type": "code",
      "execution_count": null,
      "metadata": {
        "colab": {
          "base_uri": "https://localhost:8080/"
        },
        "id": "pyVWpfaJDjDv",
        "outputId": "1a413632-c07b-44f0-94d3-de34d52af012"
      },
      "outputs": [
        {
          "output_type": "stream",
          "name": "stdout",
          "text": [
            "Welcome to the Dice Rolling Simulator!\n"
          ]
        }
      ],
      "source": [
        "import random\n",
        "\n",
        "def roll_dice():\n",
        "    print(\"Welcome to the Dice Rolling Simulator!\")\n",
        "\n",
        "    while True:\n",
        "        roll = input(\"Roll the dice? (yes/no): \").lower()\n",
        "        if roll == 'yes':\n",
        "            dice_result = random.randint(1, 6)\n",
        "            print(f\"You rolled a {dice_result}!\")\n",
        "        elif roll == 'no':\n",
        "            print(\"Thanks for playing!\")\n",
        "            break\n",
        "        else:\n",
        "            print(\"Invalid input, please type 'yes' or 'no'.\")\n",
        "\n",
        "# Run the dice simulator\n",
        "roll_dice()\n"
      ]
    }
  ]
}